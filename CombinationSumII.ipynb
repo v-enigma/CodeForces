{
 "cells": [
  {
   "cell_type": "code",
   "execution_count": 9,
   "id": "11ddf8f2-da7f-4dd3-b350-62039b70d110",
   "metadata": {},
   "outputs": [
    {
     "name": "stdout",
     "output_type": "stream",
     "text": [
      "[[1, 1, 6]]\n",
      "[[1, 1, 6], [1, 2, 5]]\n",
      "[[1, 1, 6], [1, 2, 5], [1, 7]]\n",
      "[[1, 1, 6], [1, 2, 5], [1, 7], [2, 6]]\n",
      "[[1, 1, 6], [1, 2, 5], [1, 7], [2, 6]]\n"
     ]
    }
   ],
   "source": [
    "from typing import List\n",
    "\n",
    "def findCombinations(candidates:List[int], target: int, probables: List[int] , solution : List[List[int]], start: int):\n",
    "    #print(probables, target, solution)\n",
    "    \n",
    "    if target == 0:\n",
    "        solution.append(probables[:])\n",
    "        print(solution)\n",
    "        return \n",
    "    for i in range(start, len(candidates)):\n",
    "        if i > start and candidates[i] == candidates[i-1]:\n",
    "            continue\n",
    "        if(target - candidates[i] >= 0):\n",
    "            probables.append(candidates[i])\n",
    "            findCombinations(candidates,target-candidates[i] ,probables, solution, i+1)\n",
    "            probables.pop()\n",
    "def combinationSumII():\n",
    "    candidates = [ 10, 1,2,7,6,1,5]\n",
    "    candidates.sort()\n",
    "    target = 8\n",
    "    probables = []\n",
    "    solution =[]\n",
    "    findCombinations(candidates,target, probables, solution, 0)\n",
    "    print(solution)\n",
    "combinationSumII()        \n",
    "            "
   ]
  },
  {
   "cell_type": "code",
   "execution_count": null,
   "id": "3d6f89cf-28f1-4312-a03c-b6b3679c520b",
   "metadata": {},
   "outputs": [],
   "source": []
  }
 ],
 "metadata": {
  "kernelspec": {
   "display_name": "Python 3 (ipykernel)",
   "language": "python",
   "name": "python3"
  },
  "language_info": {
   "codemirror_mode": {
    "name": "ipython",
    "version": 3
   },
   "file_extension": ".py",
   "mimetype": "text/x-python",
   "name": "python",
   "nbconvert_exporter": "python",
   "pygments_lexer": "ipython3",
   "version": "3.12.4"
  }
 },
 "nbformat": 4,
 "nbformat_minor": 5
}
