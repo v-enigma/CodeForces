{
 "cells": [
  {
   "cell_type": "code",
   "execution_count": 7,
   "id": "a4be6027-34c6-474c-b6bc-a665a04d2ae3",
   "metadata": {},
   "outputs": [
    {
     "name": "stdin",
     "output_type": "stream",
     "text": [
      " 5\n"
     ]
    },
    {
     "name": "stdout",
     "output_type": "stream",
     "text": [
      "120\n"
     ]
    }
   ],
   "source": [
    "def factorial(n):\n",
    "    if n ==1 : \n",
    "        return 1\n",
    "    else : return n* Factorial(n-1)\n",
    "def fact():\n",
    "    n = input()\n",
    "    n = int(n)\n",
    "    print(factorial(n))\n",
    "fact()"
   ]
  },
  {
   "cell_type": "code",
   "execution_count": null,
   "id": "3779c165-da15-4072-ae57-d84bfbe87c74",
   "metadata": {},
   "outputs": [],
   "source": []
  }
 ],
 "metadata": {
  "kernelspec": {
   "display_name": "Python 3 (ipykernel)",
   "language": "python",
   "name": "python3"
  },
  "language_info": {
   "codemirror_mode": {
    "name": "ipython",
    "version": 3
   },
   "file_extension": ".py",
   "mimetype": "text/x-python",
   "name": "python",
   "nbconvert_exporter": "python",
   "pygments_lexer": "ipython3",
   "version": "3.12.4"
  }
 },
 "nbformat": 4,
 "nbformat_minor": 5
}
