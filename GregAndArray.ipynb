{
 "cells": [
  {
   "cell_type": "code",
   "execution_count": 53,
   "id": "bc4e3ab6-4c8d-4f5e-9661-2aef2aab651e",
   "metadata": {},
   "outputs": [
    {
     "name": "stdin",
     "output_type": "stream",
     "text": [
      " 3 3 3\n",
      " 1 2 3\n",
      " 1 2 1\n",
      " 1 3 2\n",
      " 2 3 4\n",
      " 1 2\n",
      " 1 3\n",
      " 2 3\n"
     ]
    },
    {
     "name": "stdout",
     "output_type": "stream",
     "text": [
      "9 18 17\n"
     ]
    }
   ],
   "source": [
    "def gregAndArray():\n",
    "    bounds = list(map(int, input().split()))\n",
    "    #arrayNum =[]\n",
    "    arrayNum = list(map(int, input().split()))\n",
    "    ops =[]\n",
    "    for i in range(0, bounds[1]):\n",
    "        ops.append(list(map(int, input().split())))\n",
    "    query = []\n",
    "    for i in range(0, bounds[2]):\n",
    "        query.append(list(map(int, input().split())))\n",
    "    updates = [0]*(bounds[1]+2)\n",
    "    for i in range(0, bounds[2]):\n",
    "        updates[query[i][0]] = updates[query[i][0]] + 1\n",
    "        updates[query[i][1]+ 1] = updates[query[i][1] + 1]-1 \n",
    "        #print(updates)\n",
    "    #print(updates)\n",
    "    values =[0]*(bounds[1]+2)\n",
    "    arrayF = [0]*(bounds[0]+2)\n",
    "    for i in range(1, bounds[1]+1):\n",
    "        updates[i] = updates[i]+ updates[i-1]\n",
    "        values[i] = updates[i]*ops[i-1][2]\n",
    "        arrayF[ops[i-1][0]] = arrayF[ops[i-1][0]]+ values[i]\n",
    "        arrayF[ops[i-1][1]+1] = arrayF[ops[i-1][1]+1] - values[i]\n",
    "    #print(updates)\n",
    "    #print(values)\n",
    "    #print(arrayF)\n",
    "    final =\"\"\n",
    "    for i in range(1, bounds[0]+1):\n",
    "        arrayF[i] = arrayF[i]+ arrayF[i-1]\n",
    "        arrayNum[i-1] = arrayNum[i-1]+ arrayF[i]\n",
    "    final = \" \".join(map(str, arrayNum))\n",
    "    print(final)\n",
    "    \n",
    "gregAndArray()"
   ]
  },
  {
   "cell_type": "code",
   "execution_count": null,
   "id": "697a9b51-45d6-436d-9daf-ffc4bc593ead",
   "metadata": {},
   "outputs": [],
   "source": []
  }
 ],
 "metadata": {
  "kernelspec": {
   "display_name": "Python 3 (ipykernel)",
   "language": "python",
   "name": "python3"
  },
  "language_info": {
   "codemirror_mode": {
    "name": "ipython",
    "version": 3
   },
   "file_extension": ".py",
   "mimetype": "text/x-python",
   "name": "python",
   "nbconvert_exporter": "python",
   "pygments_lexer": "ipython3",
   "version": "3.12.4"
  }
 },
 "nbformat": 4,
 "nbformat_minor": 5
}
