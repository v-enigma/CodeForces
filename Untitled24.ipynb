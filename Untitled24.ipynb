{
 "cells": [
  {
   "cell_type": "code",
   "execution_count": 25,
   "id": "e6976e99-0e74-4dc5-9c35-ac211dd630d1",
   "metadata": {},
   "outputs": [
    {
     "name": "stdin",
     "output_type": "stream",
     "text": [
      " 6\n",
      " 1 2 3 4 5 6\n",
      " 3\n",
      " 1 2 3\n"
     ]
    },
    {
     "name": "stdout",
     "output_type": "stream",
     "text": [
      "5\n"
     ]
    },
    {
     "name": "stdin",
     "output_type": "stream",
     "text": [
      " 2 4 5\n"
     ]
    },
    {
     "name": "stdout",
     "output_type": "stream",
     "text": [
      "9\n"
     ]
    },
    {
     "name": "stdin",
     "output_type": "stream",
     "text": [
      " 2 1 1\n"
     ]
    },
    {
     "name": "stdout",
     "output_type": "stream",
     "text": [
      "1\n"
     ]
    }
   ],
   "source": [
    "def kuriyamaAnswers(array):\n",
    "    sortedArray = sorted(array)\n",
    "    #print(sortedArray)\n",
    "    prefixSum = []\n",
    "    sortedPrefixSum =[]\n",
    "    for i in range(0, len(array)):\n",
    "        if i == 0:\n",
    "            prefixSum.append(array[i])\n",
    "            sortedPrefixSum.append(sortedArray[i])\n",
    "        else:\n",
    "            prefixSum.append(prefixSum[i-1]+ array[i])\n",
    "            sortedPrefixSum.append(sortedPrefixSum[i-1]+ sortedArray[i])\n",
    "    loop = int(input())\n",
    "    #print(sortedPrefixSum)\n",
    "    while(loop > 0):\n",
    "        query = list(map(int, input().split()))\n",
    "        if(query[0] == 1):\n",
    "            print(prefixSum[query[2]-1]- prefixSum[query[1]-1]+ array[query[1]-1])\n",
    "        else:\n",
    "            print(sortedPrefixSum[query[2]-1] - sortedPrefixSum[query[1]-1] + sortedArray[query[1]-1])\n",
    "        loop-=1\n",
    "size = int(input())\n",
    "array = list(map(int, input().split()))     \n",
    "kuriyamaAnswers(array)"
   ]
  },
  {
   "cell_type": "code",
   "execution_count": null,
   "id": "bc40bb08-11d0-4126-a18f-151be01ed132",
   "metadata": {},
   "outputs": [],
   "source": []
  }
 ],
 "metadata": {
  "kernelspec": {
   "display_name": "Python 3 (ipykernel)",
   "language": "python",
   "name": "python3"
  },
  "language_info": {
   "codemirror_mode": {
    "name": "ipython",
    "version": 3
   },
   "file_extension": ".py",
   "mimetype": "text/x-python",
   "name": "python",
   "nbconvert_exporter": "python",
   "pygments_lexer": "ipython3",
   "version": "3.12.4"
  }
 },
 "nbformat": 4,
 "nbformat_minor": 5
}
