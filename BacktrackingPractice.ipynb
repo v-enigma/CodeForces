{
 "cells": [
  {
   "cell_type": "code",
   "execution_count": 37,
   "id": "330b8931-fbc7-4867-a665-dd31860f3fd1",
   "metadata": {},
   "outputs": [
    {
     "name": "stdin",
     "output_type": "stream",
     "text": [
      " 4 4\n",
      "Enter the character A\n",
      "Enter the character B\n",
      "Enter the character C\n",
      "Enter the character D\n",
      "Enter the character S\n",
      "Enter the character E\n",
      "Enter the character F\n",
      "Enter the character G\n",
      "Enter the character H\n",
      "Enter the character L\n",
      "Enter the character E\n",
      "Enter the character K\n",
      "Enter the character M\n",
      "Enter the character N\n",
      "Enter the character O\n",
      "Enter the character P\n",
      " EFGK\n"
     ]
    },
    {
     "name": "stdout",
     "output_type": "stream",
     "text": [
      "True\n"
     ]
    }
   ],
   "source": [
    "def createBoard():\n",
    "    m, n  = map(int,input().split())\n",
    "    #print(m,n)\n",
    "    board  = []\n",
    "    #print(board)\n",
    "    for i in range(0, m):\n",
    "        temp =[]\n",
    "        for j in range(0,n):\n",
    "            s = input(\"Enter the character\")\n",
    "            temp.append( s[0])\n",
    "        board.append(temp)\n",
    "    #print(board)\n",
    "    return board\n",
    "#def bt(board, word):\n",
    "def wordSearch(row, column, board, word):\n",
    "    ans = False\n",
    "    if(word ==\"\") :\n",
    "        return True\n",
    "    if(row < 0 or column < 0):\n",
    "        return False\n",
    "    if(row < len(board) and column < len( board[0]) and board[row][column] == word[0]):\n",
    "        temp = board[row][column]\n",
    "        board[row][column] = '*'\n",
    "        ans  = ans or wordSearch(row-1,column, board, word[1:]) \n",
    "        ans =  ans or wordSearch( row+1, column, board, word[1:])\n",
    "        ans = ans or wordSearch(row, column+1, board, word[1:]) \n",
    "        ans = ans or wordSearch(row, column-1 , board, word[1:])\n",
    "        if( not ans):\n",
    "            board[row][column] = temp\n",
    "        return ans\n",
    "    return ans\n",
    "def findFirstMatch(word, board):\n",
    "    match = False\n",
    "    for i in  range(0, len(board)):\n",
    "        for j in range(0, len(board[i])):\n",
    "            if(board[i][j] == word[0]):\n",
    "               match = wordSearch(i, j , board, word)\n",
    "               if(match):\n",
    "                    return match\n",
    "    return match\n",
    "                \n",
    "         \n",
    "def boardPractice():\n",
    "    board = createBoard()\n",
    "    #print(board)\n",
    "    #word = createBoard()\n",
    "    word = input()\n",
    "    temp = findFirstMatch(word, board)\n",
    "    print(temp)\n",
    "    \n",
    "boardPractice()\n",
    "    "
   ]
  },
  {
   "cell_type": "code",
   "execution_count": null,
   "id": "a4c6a419-780e-4ed6-8379-7e3dad1432af",
   "metadata": {},
   "outputs": [],
   "source": []
  }
 ],
 "metadata": {
  "kernelspec": {
   "display_name": "Python 3 (ipykernel)",
   "language": "python",
   "name": "python3"
  },
  "language_info": {
   "codemirror_mode": {
    "name": "ipython",
    "version": 3
   },
   "file_extension": ".py",
   "mimetype": "text/x-python",
   "name": "python",
   "nbconvert_exporter": "python",
   "pygments_lexer": "ipython3",
   "version": "3.12.4"
  }
 },
 "nbformat": 4,
 "nbformat_minor": 5
}
