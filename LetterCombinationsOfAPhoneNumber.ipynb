{
 "cells": [
  {
   "cell_type": "code",
   "execution_count": 20,
   "id": "12a84862-2152-45cb-8b66-c508cb445d46",
   "metadata": {},
   "outputs": [
    {
     "name": "stdout",
     "output_type": "stream",
     "text": [
      "['ad', 'bd', 'cd', 'ae', 'be', 'ce', 'af', 'bf', 'cf']\n"
     ]
    }
   ],
   "source": [
    "\n",
    "#print(phone)\n",
    "def combinations(item, probables):\n",
    "    solution =[]\n",
    "    possibleChars = phone[item]\n",
    "    if len(probables) == 0:\n",
    "        return possibleChars\n",
    "    for i in possibleChars:\n",
    "        for j in probables:\n",
    "            temp = j+i\n",
    "            solution.append(temp)\n",
    "    return solution[:]  \n",
    "def numberToLetters(digits):\n",
    "    solution = []\n",
    "    for i in digits:\n",
    "        solution = combinations(i, solution)\n",
    "    print(solution)\n",
    "    \n",
    "numberToLetters(\"23\")  \n",
    "\n",
    "                "
   ]
  },
  {
   "cell_type": "code",
   "execution_count": null,
   "id": "d55e5ba9-85de-4e6e-9693-3aadec25fa8c",
   "metadata": {},
   "outputs": [],
   "source": []
  }
 ],
 "metadata": {
  "kernelspec": {
   "display_name": "Python 3 (ipykernel)",
   "language": "python",
   "name": "python3"
  },
  "language_info": {
   "codemirror_mode": {
    "name": "ipython",
    "version": 3
   },
   "file_extension": ".py",
   "mimetype": "text/x-python",
   "name": "python",
   "nbconvert_exporter": "python",
   "pygments_lexer": "ipython3",
   "version": "3.12.4"
  }
 },
 "nbformat": 4,
 "nbformat_minor": 5
}
