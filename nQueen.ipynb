{
 "cells": [
  {
   "cell_type": "code",
   "execution_count": 31,
   "id": "254be2c5-c9c4-4f8f-a442-f3570b9312e8",
   "metadata": {},
   "outputs": [
    {
     "name": "stdout",
     "output_type": "stream",
     "text": [
      "[]\n",
      "0\n"
     ]
    }
   ],
   "source": [
    "class Solution:\n",
    "    def solveNQueens(self, n):\n",
    "         board = [ ['.']*n for _ in range(n)]\n",
    "         possibleArrangements = []\n",
    "         self.arrangeNQueens(0,n,board,possibleArrangements)\n",
    "         return possibleArrangements\n",
    "        \n",
    "    def arrangeNQueens(self,index,n,board, possibleArrangements):\n",
    "        #print(board)\n",
    "        #print(index)\n",
    "        if index == n:\n",
    "            possibleArrangements.append([''.join(row) for row in board])\n",
    "            #print(possibleArrangements)\n",
    "            return\n",
    "        for i in range(0, n):\n",
    "            if self.freeColumn(index,i,board)  and self.freeDiag(index,i,board) :\n",
    "                #print(index)\n",
    "                board[index][i] = 'Q'\n",
    "                self.arrangeNQueens(index+1,n,board,possibleArrangements)\n",
    "                board[index][i] ='.'\n",
    "\n",
    "    def freeColumn(self, x, y, board):\n",
    "        #print(x,y)\n",
    "        j = x\n",
    "        while( j >= 0  ):\n",
    "            if board[j][y] == 'Q' :\n",
    "                return False\n",
    "            j-=1\n",
    "        return True\n",
    "    def freeDiag(self, x,y ,board ):\n",
    "        i = x\n",
    "        j = y\n",
    "        while( i >= 0 and j >= 0):\n",
    "            if board[i][j] == 'Q':\n",
    "                return False\n",
    "            i-=1\n",
    "            j-=1\n",
    "        i = x\n",
    "        j = y\n",
    "        while (i >= 0 and j < len(board)):\n",
    "            if board[i][j] == 'Q' :\n",
    "                return False\n",
    "            i-=1\n",
    "            j+=1\n",
    "        return True\n",
    "        \n",
    "s = Solution()\n",
    "possibles = s.solveNQueens(3)\n",
    "print(possibles)\n",
    "print(len(possibles))"
   ]
  },
  {
   "cell_type": "code",
   "execution_count": 37,
   "id": "a74bd576-4d33-4278-8e99-d15b42d02c2c",
   "metadata": {},
   "outputs": [
    {
     "name": "stdout",
     "output_type": "stream",
     "text": [
      "[]\n"
     ]
    }
   ],
   "source": [
    "class Solution:\n",
    "    def solveNQueens(self, n):\n",
    "        board = [['.'] * n for _ in range(n)]  # Create a proper 2D board\n",
    "        possibleArrangements = []\n",
    "        self.arrangeNQueens(0, n, board, possibleArrangements)\n",
    "        return possibleArrangements\n",
    "        \n",
    "    def arrangeNQueens(self, index, n, board, possibleArrangements):\n",
    "        if index == n:  # All queens are placed\n",
    "            # Add a deep copy of the board to results\n",
    "            possibleArrangements.append([''.join(row) for row in board])\n",
    "            return\n",
    "        for i in range(n):\n",
    "            if self.freeColumn(index, i, board) and self.freeDiag(index, i, board):\n",
    "                board[index][i] = 'Q'  # Place queen\n",
    "                self.arrangeNQueens(index + 1, n, board, possibleArrangements)\n",
    "                board[index][i] = '.'  # Backtrack\n",
    "    \n",
    "    def freeColumn(self, x, y, board):\n",
    "        # Check the column for a queen above the current position\n",
    "        for i in range(x):\n",
    "            if board[i][y] == 'Q':\n",
    "                return False\n",
    "        return True\n",
    "\n",
    "    def freeDiag(self, x, y, board):\n",
    "        # Check top-left to bottom-right diagonal\n",
    "        i, j = x, y\n",
    "        while i >= 0 and j >= 0:\n",
    "            if board[i][j] == 'Q':\n",
    "                return False\n",
    "            i -= 1\n",
    "            j -= 1\n",
    "        # Check top-right to bottom-left diagonal\n",
    "        i, j = x, y\n",
    "        while i >= 0 and j < len(board):\n",
    "            if board[i][j] == 'Q':\n",
    "                return False\n",
    "            i -= 1\n",
    "            j += 1\n",
    "        return True\n",
    "\n",
    "# Test the solution\n",
    "s = Solution()\n",
    "possibles = s.solveNQueens(3)\n",
    "print(possibles)\n"
   ]
  },
  {
   "cell_type": "code",
   "execution_count": null,
   "id": "32a207c2-1199-46ab-83c5-b6cac12f5865",
   "metadata": {},
   "outputs": [],
   "source": []
  }
 ],
 "metadata": {
  "kernelspec": {
   "display_name": "Python 3 (ipykernel)",
   "language": "python",
   "name": "python3"
  },
  "language_info": {
   "codemirror_mode": {
    "name": "ipython",
    "version": 3
   },
   "file_extension": ".py",
   "mimetype": "text/x-python",
   "name": "python",
   "nbconvert_exporter": "python",
   "pygments_lexer": "ipython3",
   "version": "3.12.4"
  }
 },
 "nbformat": 4,
 "nbformat_minor": 5
}
