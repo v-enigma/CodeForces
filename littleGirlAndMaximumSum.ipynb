{
 "cells": [
  {
   "cell_type": "code",
   "execution_count": 25,
   "id": "6f955772-1835-432c-a989-df4466c8a1e5",
   "metadata": {},
   "outputs": [
    {
     "name": "stdin",
     "output_type": "stream",
     "text": [
      " 5 3\n",
      " 5 2 4 1 3\n",
      " 1 5\n",
      " 2 3\n",
      " 2 3\n"
     ]
    },
    {
     "name": "stdout",
     "output_type": "stream",
     "text": [
      "33\n"
     ]
    }
   ],
   "source": [
    "def LittleGirlAndMaximumSum():\n",
    "    bounds = list(map(int , input().split()))\n",
    "    numbers = list(map(int, input().split()))\n",
    "    numbers.sort(reverse = True)\n",
    "    queries = []\n",
    "    quantify = [0]*(bounds[0]+2)\n",
    "    for i in range(0,bounds[1]):\n",
    "        temp = list(map(int,input().split()))\n",
    "        quantify[temp[0]] = quantify[temp[0]] + 1\n",
    "        quantify[temp[1]+1] = quantify[temp[1]+1] - 1\n",
    "    for i in range(1, bounds[0]+2):\n",
    "        quantify[i] = quantify[i] + quantify[i-1]\n",
    "   \n",
    "    quantify.sort(reverse = True)    \n",
    "    #print(quantify)\n",
    "    sum = 0\n",
    "    for i in range(0, bounds[0]):\n",
    "        sum+= (numbers[i]* quantify[i])\n",
    "    print(sum)\n",
    "    #print(queries)\n",
    "LittleGirlAndMaximumSum()\n"
   ]
  },
  {
   "cell_type": "code",
   "execution_count": null,
   "id": "f158e4ae-bf89-4dfc-a4d9-4a482fd7de29",
   "metadata": {},
   "outputs": [],
   "source": []
  }
 ],
 "metadata": {
  "kernelspec": {
   "display_name": "Python 3 (ipykernel)",
   "language": "python",
   "name": "python3"
  },
  "language_info": {
   "codemirror_mode": {
    "name": "ipython",
    "version": 3
   },
   "file_extension": ".py",
   "mimetype": "text/x-python",
   "name": "python",
   "nbconvert_exporter": "python",
   "pygments_lexer": "ipython3",
   "version": "3.12.4"
  }
 },
 "nbformat": 4,
 "nbformat_minor": 5
}
