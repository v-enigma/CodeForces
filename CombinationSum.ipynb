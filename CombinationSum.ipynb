{
 "cells": [
  {
   "cell_type": "code",
   "execution_count": 17,
   "id": "8215b6ca-f9d7-4ac1-b85f-7ce38028ecf8",
   "metadata": {},
   "outputs": [
    {
     "name": "stdout",
     "output_type": "stream",
     "text": [
      "[[1, 1, 1]]\n",
      "[[1, 2], [1, 2]]\n",
      "[[2, 1], [2, 1], [2, 1]]\n",
      "[[3], [3], [3], [3]]\n"
     ]
    }
   ],
   "source": [
    "from collections import Counter\n",
    "from typing import List\n",
    "def findCombination(candidates:List[int], target : int, probables :List[int] , solution : List[List[int]]):\n",
    "    if target == 0:\n",
    "        if(findDuplicates(solution, probables)):\n",
    "            solution.append(probables)\n",
    "            print(solution)\n",
    "    ans = False\n",
    "    for i in range(0 , len(candidates)):\n",
    "        \n",
    "        if(target - candidates[i] >= 0):\n",
    "            probables.append(candidates[i])\n",
    "            findCombination(candidates, target - candidates[i] , probables, solution)\n",
    "            #index =  len(probables)\n",
    "            probables.remove(candidates[i])\n",
    "def findDuplicates(solution, potentialCandidate):\n",
    "    if(len(solution) == 0):\n",
    "        return True\n",
    "    counter2 = Counter(potentialCandidate)\n",
    "    for item in solution:\n",
    "        counter1 = Counter(item)\n",
    "        c = counter1 - counter2\n",
    "        if len(c) > 0:\n",
    "            return False\n",
    "        else:\n",
    "            return True\n",
    "def combinationSum():\n",
    "    candidates =[1,2,3]\n",
    "    target = 3\n",
    "    probables =[]\n",
    "    solution =[]\n",
    "    findCombination([1,2,3],target , probables, solution)\n",
    "combinationSum()\n",
    "            \n",
    "                    \n",
    "      \n",
    "            "
   ]
  },
  {
   "cell_type": "code",
   "execution_count": 19,
   "id": "a8479721-7b0f-48a5-8bd1-2b667d821058",
   "metadata": {},
   "outputs": [
    {
     "name": "stdout",
     "output_type": "stream",
     "text": [
      "[[1, 1, 1], [1, 2], [3]]\n"
     ]
    }
   ],
   "source": [
    "from collections import Counter\n",
    "from typing import List\n",
    "\n",
    "def findCombination(candidates: List[int], target: int, probables: List[int], solution: List[List[int]]):\n",
    "    if target == 0:\n",
    "        # Sort `probables` to avoid permutations of the same combination\n",
    "        sorted_probables = sorted(probables)\n",
    "        if sorted_probables not in solution:  # Avoid duplicates\n",
    "            solution.append(sorted_probables)\n",
    "        return\n",
    "    \n",
    "    for i in range(len(candidates)):\n",
    "        # Check if the candidate can be subtracted from the target\n",
    "        if target - candidates[i] >= 0:\n",
    "            probables.append(candidates[i])  # Include the current candidate\n",
    "            findCombination(candidates, target - candidates[i], probables, solution)\n",
    "            probables.pop()  # Backtrack to explore other combinations\n",
    "\n",
    "def combinationSum():\n",
    "    candidates = [1, 1, 1, 2, 3]\n",
    "    target = 3\n",
    "    probables = []\n",
    "    solution = []\n",
    "    findCombination(candidates, target, probables, solution)\n",
    "    print(solution)\n",
    "\n",
    "combinationSum()\n"
   ]
  },
  {
   "cell_type": "code",
   "execution_count": null,
   "id": "16b2159e-51ae-4e69-aede-328bfa55e7fd",
   "metadata": {},
   "outputs": [],
   "source": []
  }
 ],
 "metadata": {
  "kernelspec": {
   "display_name": "Python 3 (ipykernel)",
   "language": "python",
   "name": "python3"
  },
  "language_info": {
   "codemirror_mode": {
    "name": "ipython",
    "version": 3
   },
   "file_extension": ".py",
   "mimetype": "text/x-python",
   "name": "python",
   "nbconvert_exporter": "python",
   "pygments_lexer": "ipython3",
   "version": "3.12.4"
  }
 },
 "nbformat": 4,
 "nbformat_minor": 5
}
