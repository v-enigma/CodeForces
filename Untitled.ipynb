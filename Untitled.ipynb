{
 "cells": [
  {
   "cell_type": "code",
   "execution_count": 27,
   "id": "77e1eb07-f7e1-4e3a-bd4f-7a404dab5979",
   "metadata": {},
   "outputs": [
    {
     "name": "stdout",
     "output_type": "stream",
     "text": [
      "[[0, 0, 0], [0, 0, 0], [0, 0, 0]]\n",
      "[[0, 0, 0], [0, 0, 0], [0, 0, 0]]\n",
      "[[1, 2, 3], 1, [0, 0, 0]]\n",
      "[[1, 2, 3], 1, [0, 0, 0]]\n"
     ]
    }
   ],
   "source": [
    "a =[[0]*3]*3\n",
    "b = a\n",
    "print(a)\n",
    "print(b)\n",
    "a[0] = [1,2,3]\n",
    "b[1] = 1\n",
    "print(a)\n",
    "print(b)"
   ]
  },
  {
   "cell_type": "code",
   "execution_count": 23,
   "id": "811a46c8-00b4-467a-8a29-a795a29eb002",
   "metadata": {},
   "outputs": [
    {
     "name": "stdout",
     "output_type": "stream",
     "text": [
      "['VoGo', 'Venu', '']\n",
      "['VoGo', 'Venu', '']\n",
      "['VoGo', 'Venu', '']\n"
     ]
    }
   ],
   "source": [
    "class Name:\n",
    "    def __init__(self, value):\n",
    "        super().__setattr__('value',value)\n",
    "    def modifyName(self, index, value):\n",
    "        if index > 0 and index < len(self.names):\n",
    "            self.names[index] = value\n",
    "    def __setattr__(self, name, value):\n",
    "        \n",
    "list = [\"\"]*3\n",
    "name = Name(list)\n",
    "NameList = [name]*3\n",
    "list[0] = \"VoGo\"\n",
    "NameList[1].modifyName(1,\"Venu\")\n",
    "for i in NameList:\n",
    "    print(i.names)"
   ]
  },
  {
   "cell_type": "code",
   "execution_count": null,
   "id": "1123b1af-b8de-4737-99b9-f119852ebf2c",
   "metadata": {},
   "outputs": [],
   "source": []
  }
 ],
 "metadata": {
  "kernelspec": {
   "display_name": "Python 3 (ipykernel)",
   "language": "python",
   "name": "python3"
  },
  "language_info": {
   "codemirror_mode": {
    "name": "ipython",
    "version": 3
   },
   "file_extension": ".py",
   "mimetype": "text/x-python",
   "name": "python",
   "nbconvert_exporter": "python",
   "pygments_lexer": "ipython3",
   "version": "3.12.4"
  }
 },
 "nbformat": 4,
 "nbformat_minor": 5
}
