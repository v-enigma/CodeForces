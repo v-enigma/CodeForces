{
 "cells": [
  {
   "cell_type": "code",
   "execution_count": 37,
   "id": "315ed8c4-aa90-486d-996a-cf4361779416",
   "metadata": {},
   "outputs": [
    {
     "name": "stdout",
     "output_type": "stream",
     "text": [
      "['1111112', '2', '2', '3']\n",
      "['11111', '12', '22', '30']\n",
      "['11', '111', '122', '230']\n"
     ]
    }
   ],
   "source": [
    "def sumString(digits):\n",
    "   \n",
    "    for i in range(1, len(digits)):\n",
    "        if(len(digits)/i >= 3):\n",
    "           isValid = divide(digits, i)\n",
    "           if isValid :\n",
    "               return 1\n",
    "        else:\n",
    "                return 0\n",
    "        return 0\n",
    "        \n",
    "def divide(digits, size):\n",
    "    list = []\n",
    "    isValid = True\n",
    "    n = len(digits)\n",
    "    while( n-size >=0 and isValid):\n",
    "        if(digits[n-size:n] != '0'):\n",
    "            list = [digits[n-size: n]] + list\n",
    "            if(len(list) >=3 ) :\n",
    "                isValid = isValid and isValidDivision(list)\n",
    "    \n",
    "        n = n-size\n",
    "        \n",
    "    if(n > 0):\n",
    "        list = [digits[0: n]] + list\n",
    "    print(list)\n",
    "    return isValid\n",
    "def isValidDivision(list):\n",
    "    if(int(list[0]) + int(list[1]) == int(list[2])):\n",
    "        return True\n",
    "    else:\n",
    "        return False\n",
    "sumString(\"11111122230\")\n",
    "\n",
    "\n",
    "    \n",
    "    "
   ]
  },
  {
   "cell_type": "code",
   "execution_count": null,
   "id": "4db52b09-993e-4013-9097-5c3571ad5748",
   "metadata": {},
   "outputs": [],
   "source": []
  }
 ],
 "metadata": {
  "kernelspec": {
   "display_name": "Python 3 (ipykernel)",
   "language": "python",
   "name": "python3"
  },
  "language_info": {
   "codemirror_mode": {
    "name": "ipython",
    "version": 3
   },
   "file_extension": ".py",
   "mimetype": "text/x-python",
   "name": "python",
   "nbconvert_exporter": "python",
   "pygments_lexer": "ipython3",
   "version": "3.12.4"
  }
 },
 "nbformat": 4,
 "nbformat_minor": 5
}
