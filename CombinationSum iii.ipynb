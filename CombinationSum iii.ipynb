{
 "cells": [
  {
   "cell_type": "code",
   "execution_count": null,
   "id": "b69b371f-b405-495e-b750-0f9b9b5f4410",
   "metadata": {},
   "outputs": [],
   "source": [
    "def findSum(k, n,):\n",
    "    if(k == 0 and n == 0):\n",
    "        return True\n",
    "    else if (k == 0):\n",
    "        return False\n",
    "    else if ( n ==0 )"
   ]
  }
 ],
 "metadata": {
  "kernelspec": {
   "display_name": "Python 3 (ipykernel)",
   "language": "python",
   "name": "python3"
  },
  "language_info": {
   "codemirror_mode": {
    "name": "ipython",
    "version": 3
   },
   "file_extension": ".py",
   "mimetype": "text/x-python",
   "name": "python",
   "nbconvert_exporter": "python",
   "pygments_lexer": "ipython3",
   "version": "3.12.4"
  }
 },
 "nbformat": 4,
 "nbformat_minor": 5
}
